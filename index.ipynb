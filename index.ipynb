{
 "cells": [
  {
   "cell_type": "markdown",
   "id": "7279ad13",
   "metadata": {},
   "source": [
    "## BUSINESS UNDERSTANDING\n"
   ]
  },
  {
   "cell_type": "markdown",
   "id": "bd264d75",
   "metadata": {},
   "source": []
  }
 ],
 "metadata": {
  "language_info": {
   "name": "python"
  }
 },
 "nbformat": 4,
 "nbformat_minor": 5
}
